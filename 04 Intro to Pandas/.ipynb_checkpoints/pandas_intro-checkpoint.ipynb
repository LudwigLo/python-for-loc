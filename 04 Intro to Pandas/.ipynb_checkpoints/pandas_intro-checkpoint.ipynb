{
 "cells": [
  {
   "cell_type": "markdown",
   "metadata": {},
   "source": [
    "# Introduction to Pandas\n",
    "The code below demonstrates some features of pandas:\n",
    " - import from csv\n",
    " - string replacement\n",
    " - copying a column from one dataframe to another\n",
    " - adding a new column with new values\n",
    " - reducing the dataframe to a subset of rows based on a condition\n",
    " - writing the dataframe to csv with certain specifications\n",
    " \n",
    " `df.head(5)` is used to print the top 5 rows of the dataframe, to make sure we are working with the right data.\n",
    "It's particularly important to note that the default way of working with pandas relies on the user assigning a manipulated version of the dataframe or series to another dataframe or series. To manipulate the dataframe or series \"in place,\" it's necessary to use the attribute `inplace=True` when calling several functions."
   ]
  },
  {
   "cell_type": "code",
   "execution_count": 118,
   "metadata": {},
   "outputs": [],
   "source": [
    "from pathlib import Path\n",
    "import pandas as pd\n",
    "from datetime import date\n",
    "import csv\n",
    "\n",
    "# iso format is yyyy-mm-dd\n",
    "today = date.today().isoformat()\n",
    "\n",
    "TESLA_BING_CSV = Path(r\"Tesla Bing.csv\")\n",
    "TESLA_GOOGLE_CSV = Path(r\"Tesla Google.csv\")\n",
    "\n",
    "# dtype=\"string\" is a new feature of pandas 1.0.0.\n",
    "# Previously, dtype=object was used to import as string\n",
    "\n",
    "# keep_default_na=False is used to import blank cells as blanks\n",
    "# otherwise, they may be imported as NaN or #N/A, which is not desirable\n",
    "\n",
    "df1 = pd.read_csv(TESLA_BING_CSV,\n",
    "                  encoding=\"UTF-16\",\n",
    "                  sep=\"\\t\",\n",
    "                  keep_default_na=False,\n",
    "                  dtype=\"string\")\n",
    "\n",
    "df2 = pd.read_csv(TESLA_GOOGLE_CSV,\n",
    "                  encoding=\"UTF-16\",\n",
    "                  sep=\"\\t\",\n",
    "                  keep_default_na=False,\n",
    "                  dtype=\"string\")"
   ]
  },
  {
   "cell_type": "markdown",
   "metadata": {},
   "source": [
    "Replacing text in a dataframe has some peculiar restrictions. If you are fine with limiting your replacement to the entire field of an element, then the following should work for you:\n",
    "- [`DataFrame.replace`](https://pandas.pydata.org/pandas-docs/stable/reference/api/pandas.DataFrame.replace.html)\n",
    "- [`Series.replace`](https://pandas.pydata.org/pandas-docs/stable/reference/api/pandas.Series.replace.html)  \n",
    "For these functions, `inplace=True` is a available.\n",
    "If you need to replace a substring within a string, you need to use the following:\n",
    "- [`Series.str.replace`](https://pandas.pydata.org/pandas-docs/stable/reference/api/pandas.Series.str.replace.html)  \n",
    "For this function, `inplace=True` is not available. You must assign the result to another variable.  \n",
    "For all functions above, you can indicate `regex=True` for Python to interpret the search and replacement strings as regular expressions."
   ]
  },
  {
   "cell_type": "code",
   "execution_count": 119,
   "metadata": {},
   "outputs": [
    {
     "name": "stdout",
     "output_type": "stream",
     "text": [
      "0                                特斯拉的使命是加速世界向可持续能源的过渡。\n",
      "1    特斯拉成立于2003年由一群工程师谁想证明, 人们不需要妥协, 以驱动电动-电动车可以更好,...\n",
      "2          如今, 特斯拉不仅建造了全电动汽车, 而且还建立了可无限扩展的清洁能源生产和存储产品。\n",
      "3                 特斯拉相信, 世界停止依赖化石燃料的速度越快, 迈向零排放的未来就越好。\n",
      "4                 推出于 2008年, 敞篷跑车推出了特斯拉的尖端电池技术和电动动力总成。\n",
      "Name: Chinese (Bing), dtype: string\n",
      "0                             Tesla 的使命是加速世界向可持续能源的过渡。\n",
      "1    Tesla 成立于2003年由一群工程师谁想证明, 人们不需要妥协, 以驱动电动-电动车可以...\n",
      "2       如今, Tesla 不仅建造了全电动汽车, 而且还建立了可无限扩展的清洁能源生产和存储产品。\n",
      "3              Tesla 相信, 世界停止依赖化石燃料的速度越快, 迈向零排放的未来就越好。\n",
      "4              推出于 2008年, 敞篷跑车推出了Tesla 的尖端电池技术和电动动力总成。\n",
      "Name: Chinese (Bing), dtype: string\n"
     ]
    }
   ],
   "source": [
    "# Before replacement\n",
    "print(df1[\"Chinese (Bing)\"].head(5))\n",
    "\n",
    "# Replace all instances of \"特斯拉\" in the Bing translation with \"Tesla\"\n",
    "df1[\"Chinese (Bing)\"] = df1[\"Chinese (Bing)\"].str.replace(\"特斯拉\", \"Tesla \")\n",
    "print(df1[\"Chinese (Bing)\"].head(5))"
   ]
  },
  {
   "cell_type": "code",
   "execution_count": 120,
   "metadata": {},
   "outputs": [
    {
     "name": "stdout",
     "output_type": "stream",
     "text": [
      "Index(['English', 'Chinese (Google)', 'Character Count (English)',\n",
      "       'Character Count (Chinese)', 'Translation Date', 'Chinese (Bing)'],\n",
      "      dtype='object')\n"
     ]
    }
   ],
   "source": [
    "# Add the Bing translation to the Google df\n",
    "df2[\"Chinese (Bing)\"] = df1[\"Chinese (Bing)\"]\n",
    "print(df2.columns)"
   ]
  },
  {
   "cell_type": "code",
   "execution_count": 121,
   "metadata": {},
   "outputs": [
    {
     "name": "stdout",
     "output_type": "stream",
     "text": [
      "0    2020-03-23\n",
      "1    2020-03-23\n",
      "2    2020-03-23\n",
      "3    2020-03-23\n",
      "4    2020-03-23\n",
      "Name: Update Date, dtype: object\n"
     ]
    }
   ],
   "source": [
    "# add a column \"Update Date\" with today's date\n",
    "df2[\"Update Date\"] = today\n",
    "print(df2[\"Update Date\"].head(5))"
   ]
  },
  {
   "cell_type": "code",
   "execution_count": 122,
   "metadata": {},
   "outputs": [
    {
     "name": "stdout",
     "output_type": "stream",
     "text": [
      "0    Tesla’s mission is to accelerate the world’s t...\n",
      "1    Tesla was founded in 2003 by a group of engine...\n",
      "2    Today, Tesla builds not only all-electric vehi...\n",
      "3    Tesla believes the faster the world stops rely...\n",
      "4    Launched in 2008, the Roadster unveiled Tesla’...\n",
      "Name: English, dtype: string\n",
      "0     Tesla’s mission is to accelerate the world’s t...\n",
      "3     Tesla believes the faster the world stops rely...\n",
      "7                28 seconds as measured by Motor Trend.\n",
      "8     In 2015, Tesla expanded its product line with ...\n",
      "10    Soon after, Tesla unveiled the safest, most co...\n",
      "Name: English, dtype: string\n"
     ]
    }
   ],
   "source": [
    "# before removal\n",
    "print(df2[\"English\"].head(5))\n",
    "\n",
    "# remove all rows where \"English\" does not contain \"electric\"\n",
    "# ~ inverts the dataframe, returning results where the condition is NOT true\n",
    "subset = df2[~df2[\"English\"].str.contains(\"electric\")]\n",
    "print(subset[\"English\"].head(5))"
   ]
  },
  {
   "cell_type": "code",
   "execution_count": 123,
   "metadata": {},
   "outputs": [],
   "source": [
    "# Write the resulting subset to a csv file: UTF-16, tab delimited, no index, quotes around all fields\n",
    "subset.to_csv(\"myCSV.csv\",\n",
    "              encoding=\"UTF-16\",\n",
    "              sep=\"\\t\",\n",
    "              index=False,\n",
    "              quoting=csv.QUOTE_ALL)"
   ]
  }
 ],
 "metadata": {
  "kernelspec": {
   "display_name": "Python 3",
   "language": "python",
   "name": "python3"
  },
  "language_info": {
   "codemirror_mode": {
    "name": "ipython",
    "version": 3
   },
   "file_extension": ".py",
   "mimetype": "text/x-python",
   "name": "python",
   "nbconvert_exporter": "python",
   "pygments_lexer": "ipython3",
   "version": "3.7.1"
  }
 },
 "nbformat": 4,
 "nbformat_minor": 4
}
