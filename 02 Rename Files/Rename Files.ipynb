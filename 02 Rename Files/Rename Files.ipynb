{
 "cells": [
  {
   "cell_type": "code",
   "execution_count": 2,
   "metadata": {},
   "outputs": [],
   "source": [
    "from pathlib import Path"
   ]
  },
  {
   "cell_type": "markdown",
   "metadata": {},
   "source": [
    "A dictionary of languages and their equivalent locale codes will be useful here."
   ]
  },
  {
   "cell_type": "code",
   "execution_count": 3,
   "metadata": {},
   "outputs": [],
   "source": [
    "locale_dict = {\"Chinese (Simplified)\": \"zh_CN\",\n",
    "               \"Chinese (Traditional)\": \"zh_TW\",\n",
    "               \"English (United Kingdom)\": \"en_GB\",\n",
    "               \"English (United States)\": \"en_US\",\n",
    "               \"French (France)\": \"fr_FR\",\n",
    "               \"German (Germany)\": \"de_DE\",\n",
    "               \"Japanese (Japan)\": \"ja_JP\",\n",
    "               \"Korean (Korea)\": \"ko_KR\",\n",
    "               \"Russian (Russia)\": \"ru_RU\",\n",
    "               \"Spanish (Latin America)\": \"es_419\",\n",
    "               \"Spanish (Spain)\": \"es_ES\",}"
   ]
  },
  {
   "cell_type": "markdown",
   "metadata": {},
   "source": [
    "Iterating through the contents of the from translation folder is easy with `pathlib`: `iterdir()`.\n",
    "\n",
    "A `pathlib` `Path` object has a `.name` function that returns the name of the folder/file. In this case the name of the folder is also the language. We can pass `language` to the `locale_dict` to get the locale.\n",
    "\n",
    "Because `language_folder` is also a Path object, we can iterate through all the contents recursively using `rglob`. The new filepath will be constructed based on the old filepath. It's important to use the function `.with_name()` to preserve the original path of the file.\n",
    "\n",
    "The new name is constructed of the stem (also called the basename), an underscore _ and the locale code. `with_suffix(f.suffix)` will ensure that the original extension remains on the filename.\n",
    "\n",
    "We are using `\"_\".join()` to add an underscore between elements in a list.\n",
    "\n",
    "Renaming the file is as easy as `f.rename(new_filename)`."
   ]
  },
  {
   "cell_type": "code",
   "execution_count": 4,
   "metadata": {},
   "outputs": [],
   "source": [
    "for language_folder in Path(r\"from translation\").iterdir():\n",
    "    language = language_folder.name\n",
    "    locale = locale_dict[language]\n",
    "    for f in language_folder.rglob(\"*.*\"):\n",
    "        new_f = f.with_name(\"_\".join([f.stem, locale])).with_suffix(f.suffix)\n",
    "        # print(f\"old filename: {f.name}\")\n",
    "        # print(f\"new filename: {new_f.name}\")\n",
    "        # f.rename(new_f)"
   ]
  }
 ],
 "metadata": {
  "kernelspec": {
   "display_name": "Python 3",
   "language": "python",
   "name": "python3"
  },
  "language_info": {
   "codemirror_mode": {
    "name": "ipython",
    "version": 3
   },
   "file_extension": ".py",
   "mimetype": "text/x-python",
   "name": "python",
   "nbconvert_exporter": "python",
   "pygments_lexer": "ipython3",
   "version": "3.7.1"
  }
 },
 "nbformat": 4,
 "nbformat_minor": 4
}
