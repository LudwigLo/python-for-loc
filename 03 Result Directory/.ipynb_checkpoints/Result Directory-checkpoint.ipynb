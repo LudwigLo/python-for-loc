{
 "cells": [
  {
   "cell_type": "markdown",
   "metadata": {},
   "source": [
    "# Result Directory\n",
    "This script allows the user to read files in a `from translation` folder, modify them as necessary, and write them to a result directory.\n",
    "\n",
    "They key to maintaining the folder structure is `pathlib`'s `.relative_to()` function. `pathlib` also has a function for writing text to a file: `.write_text()`. Note that an empty file must be created with `.touch()` before writing to it."
   ]
  },
  {
   "cell_type": "code",
   "execution_count": 4,
   "metadata": {},
   "outputs": [],
   "source": [
    "from pathlib import Path\n",
    "\n",
    "TO_CHECK = Path(\"from translation\")\n",
    "PARENT = TO_CHECK.parent\n",
    "\n",
    "# create a result folder in the parent folder\n",
    "RESULT = PARENT / 'Result'\n",
    "# print(f\"creating folder {RESULT.name}\")\n",
    "# RESULT.mkdir(exist_ok=True)\n",
    "\n",
    "# iterate through subfolders, creating them in the result folder\n",
    "for language_folder in TO_CHECK.iterdir():\n",
    "    language_folder_r = RESULT / language_folder.name\n",
    "    # print(f\"creating folder: {language_folder}\")\n",
    "    # language_folder_r.mkdir(exist_ok=True)\n",
    "    \n",
    "    # iterate through all folders and files\n",
    "    # get the relative path and infer the result path\n",
    "    for f in language_folder.rglob(\"*\"):\n",
    "        relative = f.relative_to(TO_CHECK)\n",
    "        result_path = RESULT / relative\n",
    "        \n",
    "        # if directory, make the directory in the result path\n",
    "        if f.is_dir():\n",
    "            pass\n",
    "            # print(f\"creating folder: {result_path.name}\")\n",
    "            # result_path.mkdir(exist_ok=True)\n",
    "        \n",
    "        # if file, read contents as text,\n",
    "        # rename the file, and infer the result filepath\n",
    "        # r.touch creates an empty file at location\n",
    "        elif f.is_file():\n",
    "            f_contents = f.read_text()\n",
    "            # modify contents as necessary\n",
    "            new_filename = f.stem + \"_new\" + f.suffix\n",
    "            r = result_path.with_name(new_filename)\n",
    "            # print(f\"writing to file: {f.name}\")\n",
    "            # r.touch(exist_ok=True)\n",
    "            # r.write_text(f_contents)"
   ]
  }
 ],
 "metadata": {
  "kernelspec": {
   "display_name": "Python 3",
   "language": "python",
   "name": "python3"
  },
  "language_info": {
   "codemirror_mode": {
    "name": "ipython",
    "version": 3
   },
   "file_extension": ".py",
   "mimetype": "text/x-python",
   "name": "python",
   "nbconvert_exporter": "python",
   "pygments_lexer": "ipython3",
   "version": "3.7.1"
  }
 },
 "nbformat": 4,
 "nbformat_minor": 4
}
