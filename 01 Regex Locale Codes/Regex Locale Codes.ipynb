{
 "cells": [
  {
   "cell_type": "markdown",
   "metadata": {},
   "source": [
    "# Regex and Locale Codes"
   ]
  },
  {
   "cell_type": "code",
   "execution_count": 4,
   "metadata": {},
   "outputs": [
    {
     "name": "stdout",
     "output_type": "stream",
     "text": [
      "blizzard_games_dir_de-DE.csv\n",
      "blizzard_games_dir_en-us.csv\n",
      "blizzard_games_dir_es-LA.csv\n",
      "blizzard_games_dir_es-MX.csv\n",
      "blizzard_games_dir_es_ES.csv\n",
      "blizzard_games_dir_fr-ca.csv\n",
      "blizzard_games_dir_fr_FR.csv\n",
      "blizzard_games_dir_it.csv\n",
      "blizzard_games_dir_ja.csv\n",
      "blizzard_games_dir_pt_BR.csv\n"
     ]
    }
   ],
   "source": [
    "from pathlib import Path\n",
    "import re\n",
    "\n",
    "for f in Path(r\"example files\").iterdir():\n",
    "    print(f.name)"
   ]
  },
  {
   "attachments": {},
   "cell_type": "markdown",
   "metadata": {},
   "source": [
    "![regex_1.png](screenshots/regex_1.png)\n",
    "![regex_2.png](screenshots/regex_2.png)\n",
    "![regex_3.png](screenshots/regex_3.png)\n",
    "![regex_4.png](screenshots/regex_4.png)\n",
    "![regex_5.png](screenshots/regex_5.png)\n",
    "![regex_6.png](screenshots/regex_6.png)\n",
    "![regex_7.png](screenshots/regex_7.png)\n",
    "![regex_8.png](screenshots/regex_8.png)\n",
    "![regex_9.png](screenshots/regex_9.png)\n",
    "![regex_10.png](screenshots/regex_10.png)"
   ]
  },
  {
   "cell_type": "markdown",
   "metadata": {},
   "source": [
    "# Pattern 1\n",
    "The below pattern uses the pipe operator | to match a 4-letter locale code before the pipe, OR a 2-letter locale code after the pipe. re.X can be used to write the regex on multiple lines with comments."
   ]
  },
  {
   "cell_type": "code",
   "execution_count": 13,
   "metadata": {},
   "outputs": [
    {
     "name": "stdout",
     "output_type": "stream",
     "text": [
      "blizzard_games_dir_de-DE.csv de-DE\n",
      "blizzard_games_dir_en-us.csv en-us\n",
      "blizzard_games_dir_es-LA.csv es-LA\n",
      "blizzard_games_dir_es-MX.csv es-MX\n",
      "blizzard_games_dir_es_ES.csv es_ES\n",
      "blizzard_games_dir_fr-ca.csv fr-ca\n",
      "blizzard_games_dir_fr_FR.csv fr_FR\n",
      "blizzard_games_dir_it.csv it\n",
      "blizzard_games_dir_ja.csv ja\n",
      "blizzard_games_dir_pt_BR.csv pt_BR\n"
     ]
    }
   ],
   "source": [
    "pattern_1 = re.compile(r\"\"\"(?<=[_-])              # look behind for underscore or dash\n",
    "                           [a-z]{2}[_-][a-zA-Z]{2} # match a 4-letter locale code\n",
    "                           (?=\\.)                  # look ahead for full stop\n",
    "                           |                       # OR\n",
    "                           (?<=[_-])               # look behind for underscore or dash\n",
    "                           [a-z]{2}                # match a 2-letter locale code\n",
    "                           (?=\\.)                  # look ahead for full stop\n",
    "                           \"\"\", re.X) \n",
    "\n",
    "for f in Path(r\"example files\").iterdir():\n",
    "    match = re.search(pattern_1, f.name)\n",
    "    if match:\n",
    "        print(f.name, match.group(0))\n",
    "    else:\n",
    "        print(f.name, \"no match\")"
   ]
  },
  {
   "cell_type": "markdown",
   "metadata": {},
   "source": [
    "# Pattern 2\n",
    "The below pattern is composed a little more cleanly. We can understand that the first two letters of the locale code may be optional. This allows us to match a 4-letter locale code and a 2-letter locale code with the same regex."
   ]
  },
  {
   "cell_type": "code",
   "execution_count": 14,
   "metadata": {},
   "outputs": [
    {
     "name": "stdout",
     "output_type": "stream",
     "text": [
      "blizzard_games_dir_de-DE.csv de-DE\n",
      "blizzard_games_dir_en-us.csv en-us\n",
      "blizzard_games_dir_es-LA.csv es-LA\n",
      "blizzard_games_dir_es-MX.csv es-MX\n",
      "blizzard_games_dir_es_ES.csv es_ES\n",
      "blizzard_games_dir_fr-ca.csv fr-ca\n",
      "blizzard_games_dir_fr_FR.csv fr_FR\n",
      "blizzard_games_dir_it.csv it\n",
      "blizzard_games_dir_ja.csv ja\n",
      "blizzard_games_dir_pt_BR.csv pt_BR\n"
     ]
    }
   ],
   "source": [
    "pattern_2 = re.compile(r\"\"\"(?<=_)          # positive lookbehind for anything after an underscore\n",
    "                           (?:             # beginning of our optional \"first two letters\"\n",
    "                           [a-zA-Z]{2}[-_] # matches two letters before dash or underscore\n",
    "                           ){0,1}?         # will match if possible, but ignore if not there\n",
    "                           [a-zA-Z]{2}     # matches the last two letters of the locale code\n",
    "                           (?=\\.)          # positive lookahead for full stop\n",
    "                           \"\"\", re.X) \n",
    "\n",
    "for f in Path(r\"example files\").iterdir():\n",
    "    match = re.search(pattern_2, f.name)\n",
    "    if match:\n",
    "        print(f.name, match.group(0))\n",
    "    else:\n",
    "        print(f.name, \"no match\")"
   ]
  }
 ],
 "metadata": {
  "kernelspec": {
   "display_name": "Python 3",
   "language": "python",
   "name": "python3"
  },
  "language_info": {
   "codemirror_mode": {
    "name": "ipython",
    "version": 3
   },
   "file_extension": ".py",
   "mimetype": "text/x-python",
   "name": "python",
   "nbconvert_exporter": "python",
   "pygments_lexer": "ipython3",
   "version": "3.7.1"
  }
 },
 "nbformat": 4,
 "nbformat_minor": 4
}
